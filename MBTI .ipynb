{
 "cells": [
  {
   "cell_type": "code",
   "execution_count": 1,
   "id": "e369a3a4",
   "metadata": {},
   "outputs": [
    {
     "name": "stdout",
     "output_type": "stream",
     "text": [
      "TAKE YOUR MBTI TEST\n",
      "Your MBTI is ESFP\n"
     ]
    }
   ],
   "source": [
    "print(\"TAKE YOUR MBTI TEST\")\n",
    "\n",
    "question = input(\"Do you regularly make new friends? \").lower()\n",
    "if (question ==\"yes\"):\n",
    "    trait1=\"E\"\n",
    "elif question==\"no\":\n",
    "    trait1=\"I\"\n",
    "else:\n",
    "    print(\"Answer with yes or no\")\n",
    "    exit()   \n",
    "    \n",
    "question=input(\"Do you make decisions based on facts rather that your own interpretations? \").lower()\n",
    "if (question ==\"yes\"):\n",
    "    trait2=\"S\"\n",
    "elif question==\"no\":\n",
    "    trait2=\"N\"\n",
    "else:\n",
    "    print(\"Answer with yes or no\")\n",
    "    \n",
    "question=input(\"Do you prefer facts over people's emotions when making a decision? \").lower()\n",
    "if (question ==\"yes\"):\n",
    "    trait3=\"T\"\n",
    "elif question==\"no\":\n",
    "    trait3=\"F\"\n",
    "else:\n",
    "    print(\"Answer with yes or no\")\n",
    "question=input(\"Do you prefer doing what you want at the moment rather than using a planned routine? \").lower()\n",
    "if (question ==\"yes\"):\n",
    "    trait4=\"P\"\n",
    "elif question==\"no\":\n",
    "    trait4=\"J\"\n",
    "else:\n",
    "    print(\"Answer with yes or no\")\n",
    "\n",
    "mbti= trait1+trait2+trait3+trait4\n",
    "print(\"Your MBTI is \"+mbti)"
   ]
  },
  {
   "cell_type": "code",
   "execution_count": null,
   "id": "90321d32",
   "metadata": {},
   "outputs": [],
   "source": []
  },
  {
   "cell_type": "code",
   "execution_count": null,
   "id": "6b049711",
   "metadata": {},
   "outputs": [],
   "source": []
  }
 ],
 "metadata": {
  "kernelspec": {
   "display_name": "Python 3 (ipykernel)",
   "language": "python",
   "name": "python3"
  },
  "language_info": {
   "codemirror_mode": {
    "name": "ipython",
    "version": 3
   },
   "file_extension": ".py",
   "mimetype": "text/x-python",
   "name": "python",
   "nbconvert_exporter": "python",
   "pygments_lexer": "ipython3",
   "version": "3.11.8"
  }
 },
 "nbformat": 4,
 "nbformat_minor": 5
}
